{
 "cells": [
  {
   "cell_type": "code",
   "execution_count": 6,
   "id": "corporate-maintenance",
   "metadata": {},
   "outputs": [],
   "source": [
    "import time\n",
    "from cenz_thingsboard import thingsboard_MQTT"
   ]
  },
  {
   "cell_type": "code",
   "execution_count": 7,
   "id": "noticed-combine",
   "metadata": {
    "scrolled": true
   },
   "outputs": [
    {
     "name": "stdout",
     "output_type": "stream",
     "text": [
      "Help on class thingsboard_MQTT in module cenz_thingsboard:\n",
      "\n",
      "class thingsboard_MQTT(builtins.object)\n",
      " |  thingsboard_MQTT(SERVER, ACCESS_TOKEN, PORT=1883, MQTT_ALIVE=60)\n",
      " |  \n",
      " |  Thingsboard MQTT Client\n",
      " |  -----------------------\n",
      " |  # pip install paho-mqtt\n",
      " |  \n",
      " |  Methods defined here:\n",
      " |  \n",
      " |  __init__(self, SERVER, ACCESS_TOKEN, PORT=1883, MQTT_ALIVE=60)\n",
      " |      SERVER ,\n",
      " |      ACCESS_TOKEN, \n",
      " |      PORT = 1883, \n",
      " |      MQTT_ALIVE = 60\n",
      " |      -----------Notes-----------------\n",
      " |      The default port is 1883\n",
      " |      e.g: thingsboard_MQTT(SERVER=\"demo.thingsboard.io\", ACCESS_TOKEN=\"abcdefg\")\n",
      " |  \n",
      " |  push(self, payload)\n",
      " |      payload is the python dictionary\n",
      " |      -----------Notes-----------------\n",
      " |      payload = {}\n",
      " |      payload[\"time\"] = time.asctime( time.localtime(time.time()) )\n",
      " |      payload[\"test\"] = 10010\n",
      " |      tb.push(payload)\n",
      " |  \n",
      " |  ----------------------------------------------------------------------\n",
      " |  Data descriptors defined here:\n",
      " |  \n",
      " |  __dict__\n",
      " |      dictionary for instance variables (if defined)\n",
      " |  \n",
      " |  __weakref__\n",
      " |      list of weak references to the object (if defined)\n",
      "\n"
     ]
    }
   ],
   "source": [
    "help(thingsboard_MQTT)"
   ]
  },
  {
   "cell_type": "code",
   "execution_count": 9,
   "id": "chicken-tattoo",
   "metadata": {},
   "outputs": [],
   "source": [
    "tb = thingsboard_MQTT(SERVER=\"192.168.0.107\", ACCESS_TOKEN=\"asdfasdfsadfsadfasdf\")"
   ]
  },
  {
   "cell_type": "code",
   "execution_count": 10,
   "id": "different-algeria",
   "metadata": {},
   "outputs": [],
   "source": [
    "payload = {}\n",
    "payload[\"time\"] = time.asctime( time.localtime(time.time()) )\n",
    "payload[\"test\"] = 100011\n",
    "tb.push(payload)"
   ]
  },
  {
   "cell_type": "code",
   "execution_count": null,
   "id": "critical-circumstances",
   "metadata": {},
   "outputs": [],
   "source": []
  },
  {
   "cell_type": "code",
   "execution_count": 1,
   "id": "integral-subscription",
   "metadata": {},
   "outputs": [],
   "source": [
    "import time\n",
    "from cenz_thingsboard import thingsboard_HTTPs"
   ]
  },
  {
   "cell_type": "code",
   "execution_count": 2,
   "id": "threatened-welding",
   "metadata": {},
   "outputs": [],
   "source": [
    "tb = thingsboard_HTTPs(SERVER=\"demo.thingsboard.io\", ACCESS_TOKEN=\"asdfasdfsadfsdafsadf\")"
   ]
  },
  {
   "cell_type": "code",
   "execution_count": 5,
   "id": "coated-savings",
   "metadata": {},
   "outputs": [
    {
     "data": {
      "text/plain": [
       "<Response [200]>"
      ]
     },
     "execution_count": 5,
     "metadata": {},
     "output_type": "execute_result"
    }
   ],
   "source": [
    "payload = {}\n",
    "payload[\"time\"] = time.asctime( time.localtime(time.time()) )\n",
    "payload[\"test\"] = 10010\n",
    "tb.push(payload)"
   ]
  },
  {
   "cell_type": "code",
   "execution_count": 12,
   "id": "pregnant-reader",
   "metadata": {},
   "outputs": [],
   "source": [
    "tb2 = thingsboard_HTTPs(SERVER=\"demo.thingsboard.io\", ACCESS_TOKEN=\"asdfsadfsadfsdafasdf\", HTTPs = \"http\", PORT = 80)"
   ]
  },
  {
   "cell_type": "code",
   "execution_count": 4,
   "id": "outdoor-patient",
   "metadata": {},
   "outputs": [
    {
     "ename": "NameError",
     "evalue": "name 'tb2' is not defined",
     "output_type": "error",
     "traceback": [
      "\u001b[0;31m---------------------------------------------------------------------------\u001b[0m",
      "\u001b[0;31mNameError\u001b[0m                                 Traceback (most recent call last)",
      "\u001b[0;32m<ipython-input-4-03fb14e870f2>\u001b[0m in \u001b[0;36m<module>\u001b[0;34m\u001b[0m\n\u001b[1;32m      2\u001b[0m \u001b[0mpayload\u001b[0m\u001b[0;34m[\u001b[0m\u001b[0;34m\"time\"\u001b[0m\u001b[0;34m]\u001b[0m \u001b[0;34m=\u001b[0m \u001b[0mtime\u001b[0m\u001b[0;34m.\u001b[0m\u001b[0masctime\u001b[0m\u001b[0;34m(\u001b[0m \u001b[0mtime\u001b[0m\u001b[0;34m.\u001b[0m\u001b[0mlocaltime\u001b[0m\u001b[0;34m(\u001b[0m\u001b[0mtime\u001b[0m\u001b[0;34m.\u001b[0m\u001b[0mtime\u001b[0m\u001b[0;34m(\u001b[0m\u001b[0;34m)\u001b[0m\u001b[0;34m)\u001b[0m \u001b[0;34m)\u001b[0m\u001b[0;34m\u001b[0m\u001b[0;34m\u001b[0m\u001b[0m\n\u001b[1;32m      3\u001b[0m \u001b[0mpayload\u001b[0m\u001b[0;34m[\u001b[0m\u001b[0;34m\"test\"\u001b[0m\u001b[0;34m]\u001b[0m \u001b[0;34m=\u001b[0m \u001b[0;36m10010\u001b[0m\u001b[0;34m\u001b[0m\u001b[0;34m\u001b[0m\u001b[0m\n\u001b[0;32m----> 4\u001b[0;31m \u001b[0mtb2\u001b[0m\u001b[0;34m.\u001b[0m\u001b[0mpush\u001b[0m\u001b[0;34m(\u001b[0m\u001b[0mpayload\u001b[0m\u001b[0;34m)\u001b[0m\u001b[0;34m\u001b[0m\u001b[0;34m\u001b[0m\u001b[0m\n\u001b[0m",
      "\u001b[0;31mNameError\u001b[0m: name 'tb2' is not defined"
     ]
    }
   ],
   "source": [
    "payload = {}\n",
    "payload[\"time\"] = time.asctime( time.localtime(time.time()) )\n",
    "payload[\"test\"] = 10010\n",
    "tb2.push(payload)"
   ]
  },
  {
   "cell_type": "code",
   "execution_count": 14,
   "id": "portuguese-peninsula",
   "metadata": {},
   "outputs": [
    {
     "name": "stdout",
     "output_type": "stream",
     "text": [
      "Help on class thingsboard_HTTPs in module cenz_thingsboard:\n",
      "\n",
      "class thingsboard_HTTPs(builtins.object)\n",
      " |  thingsboard_HTTPs(SERVER, ACCESS_TOKEN, PORT=443, HTTPs='https')\n",
      " |  \n",
      " |  Thingsboard HTTPs Client\n",
      " |  -----------------------\n",
      " |  \n",
      " |  Methods defined here:\n",
      " |  \n",
      " |  __init__(self, SERVER, ACCESS_TOKEN, PORT=443, HTTPs='https')\n",
      " |      Initialize self.  See help(type(self)) for accurate signature.\n",
      " |  \n",
      " |  push(self, payload)\n",
      " |  \n",
      " |  ----------------------------------------------------------------------\n",
      " |  Data descriptors defined here:\n",
      " |  \n",
      " |  __dict__\n",
      " |      dictionary for instance variables (if defined)\n",
      " |  \n",
      " |  __weakref__\n",
      " |      list of weak references to the object (if defined)\n",
      "\n"
     ]
    }
   ],
   "source": [
    "help(thingsboard_HTTPs)"
   ]
  },
  {
   "cell_type": "code",
   "execution_count": null,
   "id": "smoking-dairy",
   "metadata": {},
   "outputs": [],
   "source": []
  }
 ],
 "metadata": {
  "kernelspec": {
   "display_name": "Python 3",
   "language": "python",
   "name": "python3"
  },
  "language_info": {
   "codemirror_mode": {
    "name": "ipython",
    "version": 3
   },
   "file_extension": ".py",
   "mimetype": "text/x-python",
   "name": "python",
   "nbconvert_exporter": "python",
   "pygments_lexer": "ipython3",
   "version": "3.8.8"
  }
 },
 "nbformat": 4,
 "nbformat_minor": 5
}
